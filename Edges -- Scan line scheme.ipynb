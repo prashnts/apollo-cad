{
 "cells": [
  {
   "cell_type": "code",
   "execution_count": 2,
   "metadata": {
    "collapsed": false
   },
   "outputs": [],
   "source": [
    "%matplotlib inline\n",
    "\n",
    "import matplotlib.pyplot as plt\n",
    "import skimage\n",
    "import skimage.io\n",
    "import skimage.feature\n",
    "import skimage.segmentation\n",
    "import skimage.filters\n",
    "import skimage.transform\n",
    "import scipy\n",
    "import numpy as np\n",
    "import pandas as pd\n",
    "import sklearn\n",
    "import sklearn.preprocessing\n",
    "import itertools as it\n",
    "\n",
    "from ipywidgets import interact\n",
    "from IPython.display import display\n",
    "from pydash import py_\n",
    "\n",
    "from cad.metrics import geometry, exposure"
   ]
  },
  {
   "cell_type": "code",
   "execution_count": 73,
   "metadata": {
    "collapsed": true
   },
   "outputs": [],
   "source": [
    "class Grid(object):\n",
    "  R_SIGMA = (50, 0)\n",
    "  R_MORPH = (80, 2)\n",
    "  \n",
    "  def __init__(self, fname):\n",
    "    self._img = skimage.io.imread(fname)\n",
    "    self.img = exposure.equalize(self._img)\n",
    "\n",
    "  def _scan_filtered(self, img, axis=0):\n",
    "    _d = 1 if axis else -1\n",
    "    _a = 0 if axis else 1\n",
    "    igauss = skimage.filters.gaussian(img, sigma=self.R_SIGMA[::_d], mode='reflect')\n",
    "    ieroded = skimage.morphology.erosion(igauss, skimage.morphology.rectangle(*self.R_MORPH[::_d]))\n",
    "    return ieroded.mean(axis=_a)\n",
    "  \n",
    "  def _scan_quick(self, img, axis=0):\n",
    "    _a = 0 if axis else 1\n",
    "    return img.mean(axis=_a)\n",
    "  \n",
    "  def _scan_profile(self, theta=0, quick=True):\n",
    "    img = skimage.transform.rotate(self.img, theta, cval=1)\n",
    "    routine = self._scan_quick if quick else self._scan_filtered\n",
    "    return [routine(img=img, axis=x) for x in [0, 1]]    "
   ]
  },
  {
   "cell_type": "code",
   "execution_count": 80,
   "metadata": {
    "collapsed": false
   },
   "outputs": [
    {
     "data": {
      "image/png": "[encoded data removed]",
      "text/plain": [
       "<matplotlib.figure.Figure at 0x10fc9c898>"
      ]
     },
     "metadata": {},
     "output_type": "display_data"
    }
   ],
   "source": [
    "go = Grid('/d/blimp/f1.jpg')\n",
    "profile = []\n",
    "for i in np.arange(-3, 3, 0.1):\n",
    "  profile.append(go._scan_profile(i))\n",
    "\n",
    "@interact(i=(0, len(profile) - 1))\n",
    "def pl(i):\n",
    "  h, v = profile[i]\n",
    "  l = plt.subplot(121)\n",
    "  plt.plot(np.gradient(h))\n",
    "  plt.subplot(122, sharey=l)\n",
    "  plt.plot(np.gradient(v))\n",
    "  plt.ylim(-0.5, 0.5)"
   ]
  },
  {
   "cell_type": "code",
   "execution_count": null,
   "metadata": {
    "collapsed": true
   },
   "outputs": [],
   "source": []
  }
 ],
 "metadata": {
  "kernelspec": {
   "display_name": "blimp",
   "language": "python",
   "name": "blimp"
  },
  "language_info": {
   "codemirror_mode": {
    "name": "ipython",
    "version": 3
   },
   "file_extension": ".py",
   "mimetype": "text/x-python",
   "name": "python",
   "nbconvert_exporter": "python",
   "pygments_lexer": "ipython3",
   "version": "3.5.2"
  },
  "widgets": {
   "state": {
    "c857558785614054a35849764b7783d2": {
     "views": [
      {
       "cell_index": 2
      }
     ]
    }
   },
   "version": "1.2.0"
  }
 },
 "nbformat": 4,
 "nbformat_minor": 0
}
